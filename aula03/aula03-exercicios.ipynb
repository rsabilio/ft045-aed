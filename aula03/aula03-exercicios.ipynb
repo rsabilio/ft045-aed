{
 "cells": [
  {
   "cell_type": "markdown",
   "id": "d3d18f19-3fd2-40b5-aee5-79ddc0749abf",
   "metadata": {},
   "source": [
    "# FT045 - Análise Exploratória de Dados\n",
    "Prof. Leandro Nunes\n",
    "\n",
    "Aluno: Ramon Abilio\n",
    "RA: 224253\n",
    "\n",
    "Exercícios Computacionais\n",
    "Aberto: segunda, 20 Mar 2023, 00:00\n",
    "Vencimento: segunda, 27 Mar 2023, 00:00\n"
   ]
  },
  {
   "cell_type": "markdown",
   "id": "8cd2c62d-aaac-47ba-8157-72d8da2d026d",
   "metadata": {
    "jp-MarkdownHeadingCollapsed": true,
    "tags": []
   },
   "source": [
    "## 1. Write a function to convert degree Celsius (oC) into degree Fahrenheit (oF) and vice-versa. Prompt the user which conversion will be performed and then prompt the user for the temperature to be converted."
   ]
  },
  {
   "cell_type": "code",
   "execution_count": 1,
   "id": "83010abb-e1e3-42f5-a17c-da4623bd3020",
   "metadata": {},
   "outputs": [
    {
     "name": "stdout",
     "output_type": "stream",
     "text": [
      "--- Conversor de Temperatura ---\n",
      "\n",
      "Indique          \n",
      "1 - Para converter de Celsius para Fahrenheit         \n",
      "2 - Para converter de Fahrenheit para Celsius         \n",
      "3 - Sair        \n"
     ]
    },
    {
     "name": "stdin",
     "output_type": "stream",
     "text": [
      "Opção:  2\n",
      "\n",
      "Informe a temperatura em graus Fahrenheit:  89\n"
     ]
    },
    {
     "name": "stdout",
     "output_type": "stream",
     "text": [
      "89.0°F corresponde a 31.7°C\n",
      "\n",
      "Indique          \n",
      "1 - Para converter de Celsius para Fahrenheit         \n",
      "2 - Para converter de Fahrenheit para Celsius         \n",
      "3 - Sair        \n"
     ]
    },
    {
     "name": "stdin",
     "output_type": "stream",
     "text": [
      "Opção:  3\n"
     ]
    },
    {
     "name": "stdout",
     "output_type": "stream",
     "text": [
      "\n",
      "Até mais\n"
     ]
    }
   ],
   "source": [
    "def degree_converter(temp:float, celsius_to_fahrenheit=True):\n",
    "    \n",
    "    temp_converted = 0\n",
    "    if celsius_to_fahrenheit:\n",
    "        temp_converted = (temp * 1.8) + 32\n",
    "        \n",
    "    else:\n",
    "        temp_converted = (temp - 32) * (5/9)\n",
    "    \n",
    "    return temp_converted\n",
    "\n",
    "\n",
    "print(\"--- Conversor de Temperatura ---\")\n",
    "msg = f\"\\nIndique  \\\n",
    "        \\n1 - Para converter de Celsius para Fahrenheit \\\n",
    "        \\n2 - Para converter de Fahrenheit para Celsius \\\n",
    "        \\n3 - Sair \\\n",
    "       \"\n",
    "\n",
    "op = 0\n",
    "while (op != 3):\n",
    "    print(msg)    \n",
    "    op = int(input(\"Opção: \"))\n",
    "    if op not in range(1,4):\n",
    "        print(f\"Opção inválida\")\n",
    "        \n",
    "    elif op == 1:\n",
    "        temp = float(input(f\"\\nInforme a temperatura em graus Celsius: \"))\n",
    "        temp_converted =  degree_converter(temp)\n",
    "        print(f\"{temp}°C corresponde a {temp_converted:0.1f}°F\")\n",
    "        \n",
    "    elif op == 2:\n",
    "        temp = float(input(f\"\\nInforme a temperatura em graus Fahrenheit: \"))\n",
    "        temp_converted =  degree_converter(temp, False)\n",
    "        print(f\"{temp}°F corresponde a {temp_converted:0.1f}°C\")\n",
    "        \n",
    "    else:\n",
    "        print(f\"\\nAté mais\")\n"
   ]
  },
  {
   "cell_type": "markdown",
   "id": "d6d94415-bac5-4be6-a75f-eb68491384ac",
   "metadata": {
    "jp-MarkdownHeadingCollapsed": true,
    "tags": []
   },
   "source": [
    "## 2. Write a function to convert square feet (ft2) into square meters (m2) and vice-versa. Prompt the user which conversion will be performed and then prompt the user for the area to be converted."
   ]
  },
  {
   "cell_type": "code",
   "execution_count": null,
   "id": "1003d72a-139c-4ab6-a972-6a3cdfb38a3f",
   "metadata": {},
   "outputs": [],
   "source": [
    "def measure_converter(measure:float, feet_to_meter=True):\n",
    "    \n",
    "    measure_converted = 0\n",
    "    if feet_to_meter:\n",
    "        measure_converted = measure / 10.764\n",
    "        \n",
    "    else:\n",
    "        measure_converted = measure * 10.764\n",
    "    \n",
    "    return measure_converted\n",
    "\n",
    "\n",
    "print(\"--- Conversor de Medida ---\")\n",
    "msg = f\"\\nIndique  \\\n",
    "        \\n1 - Para converter de Pés Quadrados (ft²) para Metros Quadrados (m²) \\\n",
    "        \\n2 - Para converter de Metros Quadrados (m²) para Pés Quadrados (ft²) \\\n",
    "        \\n3 - Sair \\\n",
    "       \"\n",
    "\n",
    "op = 0\n",
    "while (op != 3):\n",
    "    print(msg)    \n",
    "    op = int(input(\"Opção: \"))\n",
    "    if op not in range(1,4):\n",
    "        print(f\"Opção inválida\")\n",
    "        \n",
    "    elif op == 1:\n",
    "        measure = float(input(f\"\\nInforme a medida em Pés Quadrados (ft²): \"))\n",
    "        measure_converted = measure_converter(measure)\n",
    "        print(f\"{measure}ft² corresponde(m) a {measure_converted:.2f}m²\")\n",
    "        \n",
    "    elif op == 2:\n",
    "        measure = float(input(f\"\\nInforme a medida em Metros Quadrados (m²): \"))\n",
    "        measure_converted = measure_converter(measure, False)\n",
    "        print(f\"{measure}m² corresponde(m) a {measure_converted:.2f}ft²\")\n",
    "        \n",
    "    else:\n",
    "        print(f\"\\nAté mais\")\n"
   ]
  },
  {
   "cell_type": "markdown",
   "id": "131459a9-5292-47e6-8f47-4d412d6e8145",
   "metadata": {
    "jp-MarkdownHeadingCollapsed": true,
    "tags": []
   },
   "source": [
    "## 3. Use a repetition structure to write a function that draws a pyramid using ‘*’ in the screen. The pyramid height must be an input parameter."
   ]
  },
  {
   "cell_type": "code",
   "execution_count": 21,
   "id": "ed7acacb-7009-45cf-9e57-240031fbae13",
   "metadata": {},
   "outputs": [
    {
     "name": "stdout",
     "output_type": "stream",
     "text": [
      "Desenha uma pirâmide na tela\n"
     ]
    },
    {
     "name": "stdin",
     "output_type": "stream",
     "text": [
      "Qual a altura da pirâmide?  10\n"
     ]
    },
    {
     "name": "stdout",
     "output_type": "stream",
     "text": [
      "          \n",
      "         * \n",
      "        * * \n",
      "       * * * \n",
      "      * * * * \n",
      "     * * * * * \n",
      "    * * * * * * \n",
      "   * * * * * * * \n",
      "  * * * * * * * * \n",
      " * * * * * * * * * \n"
     ]
    }
   ],
   "source": [
    "def draw_pyramid(height:int):\n",
    "    \n",
    "    for i in range(0, height):\n",
    "        spaces = ''\n",
    "        for j in range(0,height-i):\n",
    "            spaces += ' '\n",
    "            \n",
    "        ast = ''\n",
    "        for k in range(0, i):\n",
    "            ast += '* '\n",
    "    \n",
    "        print(spaces+ast)\n",
    "    \n",
    "print(f'--- Desenha uma pirâmide na tela ---')\n",
    "h = int(input(f'Qual a altura da pirâmide? '))\n",
    "draw_pyramid(h)"
   ]
  },
  {
   "cell_type": "markdown",
   "id": "d8e049a5-9867-4dbb-be2a-880d96705150",
   "metadata": {
    "jp-MarkdownHeadingCollapsed": true,
    "tags": []
   },
   "source": [
    "## 4. Write a function that determines if a word or sentence is a palindrome. A palindrome is a word or sentence that reads the same forward and backward."
   ]
  },
  {
   "cell_type": "code",
   "execution_count": 25,
   "id": "303b5ec2-2421-4119-b008-bcdaab57dad5",
   "metadata": {},
   "outputs": [
    {
     "name": "stdout",
     "output_type": "stream",
     "text": [
      "Texto -> é palindrome? (True/False)\n",
      "\n",
      "1. A rua Laura. -> True\n",
      "2. Me vê se a panela da moça é de aço, Madalena Paes, e vem. -> True\n",
      "3. O romano acata amores a damas amadas e Roma ataca o namoro. -> True\n",
      "4. Socorram-me, subi no ônibus em Marrocos! -> True\n",
      "5. anilina -> True\n",
      "6. mirim -> True\n",
      "7. Mirian -> False\n",
      "8. Ramon -> False\n"
     ]
    }
   ],
   "source": [
    "# Exemplos de palindromos: https://www.normaculta.com.br/palindromo-exemplos-de-palavras-e-frases/\n",
    "\n",
    "import string\n",
    "\n",
    "def is_palindrome(text:str, ignore_space_punct=True):\n",
    "    tokens = ['á', 'à', 'â', 'e', 'é', 'ê', 'í', 'ó', 'ô', 'ú', 'ü', 'ç']\n",
    "    text = text.lower()\n",
    "    \n",
    "    # removendo letras acentuadas\n",
    "    for t in tokens:\n",
    "        text = text.replace(t, '') \n",
    "        \n",
    "    if ignore_space_punct:\n",
    "        text = text.replace(' ','')\n",
    "        for c in string.punctuation:\n",
    "            text = text.replace(c, '') \n",
    "    \n",
    "    return (text == text[::-1])\n",
    "    \n",
    "\n",
    "texts = [\n",
    "    \"A rua Laura.\"\n",
    "    , \"Me vê se a panela da moça é de aço, Madalena Paes, e vem.\"\n",
    "    , \"O romano acata amores a damas amadas e Roma ataca o namoro.\"\n",
    "    , \"Socorram-me, subi no ônibus em Marrocos!\"\n",
    "    , \"anilina\"\n",
    "    , \"mirim\"\n",
    "    , \"Mirian\"\n",
    "    , \"Ramon\"\n",
    "]\n",
    "\n",
    "print(f\"Texto -> é palindrome? (True/False)\\n\")\n",
    "for i, t in enumerate(texts):\n",
    "    print(f\"{i+1}. {t} -> {is_palindrome(t)}\")\n",
    "    "
   ]
  },
  {
   "cell_type": "markdown",
   "id": "50525066-5a0f-4613-88e6-e2857f9392fd",
   "metadata": {
    "tags": []
   },
   "source": [
    "## 5. Download the Mammographic dataset available at the UCI repository (link below) and extract the following information for the dataframe loaded:\n",
    "\n",
    "https://archive.ics.uci.edu/ml/datasets/Mammographic+Mass\n",
    "\n",
    "* Determine the number of missing values in variable Density (missing values are represented by '?' in this dataset).\n",
    "* Determine the number of objects in each of the classes (variable Severity).\n",
    "* Determine the maximal, minimal, and average age of the patients."
   ]
  },
  {
   "cell_type": "code",
   "execution_count": 27,
   "id": "83b45e62-ba17-4419-9ecd-118772936972",
   "metadata": {},
   "outputs": [
    {
     "name": "stdout",
     "output_type": "stream",
     "text": [
      "  BI-RADS Age Shape Margin Density  Severity\n",
      "0       5  67     3      5       3         1\n",
      "1       4  43     1      1       ?         1\n",
      "2       5  58     4      5       3         1\n",
      "3       4  28     1      1       3         0\n",
      "4       5  74     1      5       ?         1\n"
     ]
    }
   ],
   "source": [
    "import pandas as pd\n",
    "\n",
    "df = pd.read_csv(\"mammographic_masses.data\", sep=\",\")\n",
    "print(df.head())"
   ]
  },
  {
   "cell_type": "code",
   "execution_count": 92,
   "id": "d5d4f769-f4d8-4fe9-abce-43aea8bc15ab",
   "metadata": {},
   "outputs": [
    {
     "name": "stdout",
     "output_type": "stream",
     "text": [
      "Quantidade de dados faltantes (?) na variável Density: 76\n",
      "\n",
      "Número de objetos por classes da variável Severity:\n",
      " - Class 0: 516\n",
      " - Class 1: 445\n",
      "\n",
      "Estatísticas da variável Age\n",
      " - Maior idade: 96\n",
      " - Menor idade: 18\n",
      " - Média das idades: 55.49\n"
     ]
    }
   ],
   "source": [
    "# Determine the number of missing values in variable Density (missing values are represented by '?' in this dataset).\n",
    "density = df['Density']\n",
    "missing = density[density == '?'].count()\n",
    "print(f'Quantidade de dados faltantes (?) na variável Density: {missing}')\n",
    "\n",
    "# Determine the number of objects in each of the classes (variable Severity).\n",
    "severity = df['Severity']\n",
    "class0 = severity[severity == 0].count()\n",
    "class1 = severity[severity == 1].count()\n",
    "print(f'\\nNúmero de objetos por classes da variável Severity:\\n - Class 0: {class0}\\n - Class 1: {class1}')\n",
    "\n",
    "# ou\n",
    "#qtd_severity = df.groupby(by=['Severity']).agg({'Severity': 'count'})\n",
    "#print(qtd_severity)\n",
    "\n",
    "# Determine the maximal, minimal, and average age of the patients.\n",
    "ages = df['Age']\n",
    "ages = ages[ages != '?'].astype('int32')\n",
    "ages = ages.sort_values()\n",
    "ages = ages.values\n",
    "num_pat = len(ages)\n",
    "\n",
    "print('\\nEstatísticas da variável Age')\n",
    "print(f' - Maior idade: {ages[-1]}')\n",
    "print(f' - Menor idade: {ages[0]}')\n",
    "print(f' - Média das idades: {(ages.sum()/num_pat):0.2f}')\n",
    "\n",
    "# ou \n",
    "#print(f' - Maior idade: {df[df[\"Age\"] != \"?\"][\"Age\"].max()}')\n",
    "#print(f' - Menor idade: {df[df[\"Age\"] != \"?\"][\"Age\"].min()}')\n",
    "#print(f' - Média das idades: {df[df[\"Age\"] != \"?\"][\"Age\"].astype(\"int32\").mean():0.2f}')\n",
    "\n"
   ]
  },
  {
   "cell_type": "markdown",
   "id": "3a5379e8-9c97-4698-aeed-344d0c48bb0a",
   "metadata": {
    "tags": []
   },
   "source": [
    "## 6. Write a program that solves a specific problem exploring at least two data types and two different control structures in Python."
   ]
  },
  {
   "cell_type": "markdown",
   "id": "8b07384d-c698-46d4-b5cf-04f21e8917f5",
   "metadata": {
    "jp-MarkdownHeadingCollapsed": true,
    "tags": []
   },
   "source": [
    "O problema específico a ser resolvido é obter estatísticas relacionadas a um texto\n",
    "* Quantidade de parágrafos\n",
    "* Quantidade de palavras por parágrafo\n",
    "* Quantidade de palavras no maior e no menor parágrafo\n",
    "* Quantidade de palavras no texto\n",
    "* Quantidade de palavras únicas no texto\n",
    "\n",
    "Tipos de Dados utilizados\n",
    "* string, int, lista, dicionario e conjunto\n",
    "\n",
    "Estruturas de Controle utilizadas\n",
    "* Estrutura de Decisão: if\n",
    "* Estrutura de Repetição: for\n"
   ]
  },
  {
   "cell_type": "code",
   "execution_count": 5,
   "id": "909e1ca1-2708-48b9-bb7f-300e749833cb",
   "metadata": {},
   "outputs": [
    {
     "data": {
      "text/plain": [
       "'Transcrição da Teleconferência Resultados do 1T22\\n06 de maio de 2022\\n\\nOperador – Bom dia, senhoras e senhores, e obrigado por aguardarem. Sejam bem-\\nvindos à teleconferência sobre os resultados do Bradesco no primeiro trimestre de\\n2022. Esta teleconferência está sendo transmitida pela internet, no site de relações\\ncom investidores do Bradesco, no endereço banco.bradesco/ri, onde poderá ser\\nencontrada a respectiva apresentação para download. Informamos que há tradução\\nsimultânea para o inglês. Todos os participantes estarão apenas ouvindo a\\nteleconferência e, em seguida, iniciaremos a sessão de perguntas e respostas,\\nquando mais instruções serão fornecidas. Caso algum dos senhores necessite de\\nassistência durante a teleconferência, queiram, por favor, solicitar a ajuda de um\\noperador digitando “*0”. Antes de prosseguir, gostaríamos de esclarecer que\\neventuais declarações que possam ser feitas durante esta teleconferência, relativas\\nàs perspectivas de negócios da companhia, projeções e metas operacionais e\\nfinanceiras, constituem-se em crenças e premissas da Diretoria, bem como em\\ninformações atualmente disponíveis para a organização. Considerações futuras não\\nsão garantias de desempenho: envolvem riscos, incertezas e premissas, pois se\\nreferem a eventos futuros e, portanto, dependem de circunstâncias que podem ou\\nnão ocorrer. Investidores devem compreender que condições econômicas gerais,\\ncondições da indústria e outros fatores operacionais podem afetar o desempenho\\nfuturo da empresa e podem conduzir a resultados que diferem materialmente\\ndaqueles expressos em tais considerações futuras.\\nAgora, passo a palavra ao senhor Leandro Miranda, Diretor Executivo e IRO.\\n\\nLeandro Miranda – Bom dia a todos. Bem-vindos a nossa conferência de divulgação\\nde resultados referente ao 1T22. Conosco estão presentes os seguintes\\nparticipantes: Octavio de Lazari Júnior, nosso diretor presidente; André Rodrigues\\nCano, diretor vice-presidente e CFO; eu, Leandro Miranda, diretor executivo e IRO;\\nOswaldo Tadeu Fernandes, diretor executivo; Carlos Firetti, diretor de\\nControladoria e Relações com Mercado; Ivan Gontijo, diretor presidente da\\nBradesco Seguros; Renato Ejnisman, diretor-presidente do banco next; Curt\\nZimmermann, diretor presidente do Bitz; e Carlos Giovane Neves, diretor-presidente\\ndo Digio. Octavio, a palavra é com você.\\n\\nOctavio de Lazari Junior – Bom dia a todas e todos. Obrigado por participarem de\\nnossa teleconferência sobre os resultados do 1T22.\\n\\nO cenário econômico do primeiro trimestre apresentou uma tímida evolução, com\\nas previsões do PIB crescendo um pouco mais e com a criação de mais vagas de\\ntrabalho.\\n\\nA inflação continua sendo um fenômeno global preocupante. É um desafio\\nrelevante para todas as economias, sobretudo a economia brasileira. A guerra na Ucrânia colocou pressão sobre os preços dos combustíveis e de outras\\ncommodities, e há poucas perspectivas de surgirem influências de contenção na\\nevolução dos preços para o curto prazo.\\n\\nO Banco Central do Brasil avançou com a política monetária e esperamos ver uma\\ndesaceleração de inflação durante o ano, mas os juros devem permanecer em\\npatamares elevados por um longo período, o que deve impedir um crescimento\\nmaior do PIB.\\n\\nConsiderando este cenário, o Bradesco apresentou um satisfatório desempenho\\nnesse trimestre, com Lucro Líquido de R$6,8 bilhões, o que representa um ROE de\\n18,0% e uma evolução de 3,1% em relação ao trimestre anterior.\\n\\nO destaque do período foi a margem financeira, que cresceu 9,5% em relação ao\\nmesmo período de 2021. A margem financeira de clientes evoluiu 19,6%, também na\\nmesma comparação, fruto do aumento dos spreads, reprecificação da carteira e o\\nimpacto da elevação da Selic sobre nossa margem de passivos.\\n\\nA Carteira de Crédito também mostra um importante desempenho, com expansão\\nde 2,7% em relação ao 4T21 e de 18,3% frente ao 1T21. A maior evolução ocorreu\\nnas carteiras de Pessoas Físicas, que cresceram 3,3% no trimestre e 22,6% na\\nvariação anual, com destaque para as linhas de maior margem.\\n\\nNo segmento imobiliário tivemos uma desaceleração do crescimento, o que é\\nnatural em função da elevação da taxa de juros. No entanto, esta é uma linha que\\nvai permanecer em evolução e agregando valor ao nosso negócio.\\n\\nAs receitas de prestação de serviços apresentaram um bom desempenho, com uma\\nalta de 6,7% na comparação ano a ano.\\n\\nOs custos totais se mostraram controlados, principalmente considerando as\\npressões da inflação. Houve crescimento comportado de 4,4% na comparação\\nanual e uma queda de 9,1% em relação ao trimestre anterior.\\n\\nEm linha com nossa expectativa, a inadimplência subiu nesse trimestre. Entendemos\\ncomo natural o retorno desse indicador aos níveis pré-pandemia. Importante\\ndestacar que o crescimento em operações de maior margem também traz um\\ncrescimento controlado deste indicador, com o qual estamos sempre muito atentos\\nna correta calibragem do custo versus benefício.\\n\\nO resultado operacional de seguros atingiu R$3,3 bilhões no trimestre, um\\ncrescimento de 4,7% em 12 meses. O resultado mostra que a recuperação da área\\nde seguros continua e deve ser maior nos próximos trimestres, com a evolução em\\nprêmios, o controle da pandemia e a melhora do resultado financeiro.\\n\\nEm função de todos esses fatores e associados a fatores exógenos, da economia,\\ngeopolíticos, revisamos o nosso Guidance e falaremos sobre isso no último slide.\\n\\nPassando para o slide 3, destacamos que neste trimestre houve um evento que\\nclassificamos como não recorrente face a sua natureza, que foi uma receita líquida\\nde R$ 231 milhões que tivemos com o processo de desmutualização da CIP.\\n\\nPassamos agora para o slide 4.\\n\\nA Carteira de Crédito cresceu 18,3% em relação ao mesmo período do ano passado,\\ncom crescimento de 2 dígitos em todas as linhas.\\n\\nA demanda por crédito permanece, embora um pouco menor, todavia acelera a\\nrecuperação das margens. Essa performance é consequência do nosso\\nposicionamento comercial lastreado pelo uso intensivo de dados e analytics nas\\nanálises de risco. Com isso conseguimos ser mais assertivos na definição de preço,\\nlimites e aprovação.\\n\\nDestacamos os cartões de crédito, cuja carteira cresceu 45,6% em relação ao 1T21.\\nFoi resultado de um trabalho estruturado no sentido do aumento da presença e uso\\ndos cartões por mais fatias da nossa base de 74 milhões de clientes. Um dos pontos\\ncentrais para o sucesso desse esforço foi a criação de novos produtos direcionados\\nao público amigável aos meios digitais.\\n\\nA linha de crédito imobiliário apresentou crescimento anual de 23,3%. Gostaria de\\nlembrar que a originação do financiamento de imóveis vem de recorde histórico em\\n2021. Como era de se esperar, essa performance não deve se repetir em 2022. O\\ncrescimento vai continuar, só que em ritmo mais compatível ao novo cenário de\\njuros mais elevados. As linhas de crédito imobiliário, de qualquer modo, continuam\\nsendo uma prioridade da nossa agenda de trabalho.\\n\\nO Crédito para Pessoas Jurídicas registrou evolução de 15,7% em 12 meses. As\\nprincipais modalidades foram Capital de Giro, CDC e Crédito Rural.\\n\\nOs canais digitais contribuíram com R$24 bilhões da originação no trimestre, uma\\nevolução de 44%.\\n\\nÉ cada vez maior a participação dos Canais Digitais na produção da carteira e nossa\\nexpectativa é de engajamento crescente dos clientes no consumo de crédito por\\nesses canais. É uma tendência natural e o esforço é oferecer cada vez mais\\nfacilidade e jornadas amigáveis de acesso para impulsionar a originação digital.\\n\\nTodavia vocês podem observar que a originação já é menor que no 4T21, fruto da\\nelevação da taxa de juros e criteriosa análise de risco.\\n\\nMudamos para o slide 5.\\n\\nEstamos em um momento de normalização das condições de crédito, já que os\\níndices de inadimplência estavam em níveis historicamente baixos.\\n\\nO retorno ajustado ao risco do crédito se encontra em nível adequado, tendo em\\nvista os movimentos de reprecificação e giro da carteira.\\n\\nTivemos um crescimento da despesa de PDD expandida no trimestre, atingindo\\n2,3% da carteira. O total de provisões representa 7,6% da carteira, uma expansão\\nem relação ao trimestre anterior. Mesmo assim, continuamos com níveisconfortáveis de reserva em nosso balanço, com índice de cobertura de 235%, e de\\n105% considerando a inclusão da carteira renegociada no índice.\\n\\nPassamos agora para o slide 6.\\n\\nA carteira renegociada chegou a 4,9% da carteira de crédito. Na comparação com\\nmarço de 2021 apresenta crescimento de 3,1%, bem abaixo do crescimento de 17,1%\\nda carteira de crédito nesse período.\\n\\nDado o crescimento que estamos observando na carteira de crédito, entendemos\\ncomo normal e controlado este crescimento da carteira renegociada.\\n\\nNossas provisões para a carteira renegociada representam 62,3% do total. A\\ninadimplência dessa carteira ficou em 18,7%, ainda abaixo do nível histórico.\\n\\nNo slide 7 analisamos os índices de inadimplência.\\n\\nO índice de inadimplência total registrou 3,2%, com uma elevação de 40 bps em\\nrelação ao período anterior. Ela deve-se principalmente ao processo de\\nnormalização da inadimplência, que já tínhamos antecipado que ocorreria, e o efeito\\ndo mix de crescimento do crédito. No segundo trimestre deveremos ter uma menor\\nelevação (10-20bps) e uma relativa estabilidade ao longo do segundo semestre.\\n\\nEspecificamente em Pessoas Físicas, a aceleração nesse trimestre ocorreu com a\\nexpansão das carteiras de maiores spreads, especialmente cartões de crédito.\\n\\nConsideramos que o crescimento do Indicador de inadimplência de 15 a 90 dias é\\nsazonal, sem qualquer excepcionalidade.\\n\\nA Despesa de PDD Bruta representou 96% da criação de NPL.\\n\\nPor fim, destaco que continuamos com o nosso processo de gestão de crédito e\\nvenda de carteiras não performadas e ativas sempre que o movimento é\\neconomicamente vantajoso. Todavia destacamos que, neste trimestre, não\\nrealizamos venda de carteiras ativas de forma material (apenas R$ 120 milhões).\\n\\nPassamos agora para o slide 8.\\n\\nA margem financeira total apresentou sólido desempenho no primeiro trimestre,\\ncrescendo 0,6% em relação ao 4T e 9,5% em 12 meses.\\n\\nO principal “driver” foi a margem com clientes, que evoluiu 7,0% no trimestre e\\n19,6% na comparação anual. O crescimento da margem de passivos é neste\\nmomento o principal impulsionador do crescimento da margem de clientes, sob\\nimpacto dos juros maiores que 2021.\\n\\nAdicionalmente, a margem das operações de crédito apresentou um desempenho\\nacima da nossa expectativa inicial, fruto de melhores spreads, velocidade de giro da\\ncarteira e expansão nas operações de maior retorno. Nesse trimestre, a margem declientes bruta cresceu 60 bps e a líquida, mesmo com o aumento da provisão, 30\\nbps.\\n\\nEm relação à margem com o mercado, apresentamos redução de 43,1% no\\ntrimestre, com resultado de R$1,2 bilhão, reflexo do aumento do CDI nas posições\\nde ALM.\\n\\nO slide 9 apresenta a Receita de Prestação de Serviços, que cresceu 6,7% no\\ncomparativo anual. Houve redução sazonal no trimestre.\\n\\nA linha de Cartões trouxe a principal contribuição para a evolução anual, com\\ncrescimento de 19,1%. Tivemos expansão na quantidade de cartões, sobretudo\\natravés de vendas nos canais digitais, que cresceram 260% em relação a um ano\\natrás. O fim da pandemia trouxe um aumento do valor transacionado em cartões.\\nCuriosamente, neste trimestre o valor foi superior ao do quarto trimestre, que\\nsazonalmente costuma ser o maior por conta das festas de final de ano.\\n\\nO segmento de consórcios é outro destaque. Somos líderes de mercado e 27% das\\nvendas já se realizam pelos canais digitais.\\n\\nPassamos para o slide 10.\\n\\nA política de disciplina orçamentária é uma constante em nossa gestão.\\n\\nAs despesas operacionais tiveram evolução de 4,4% em comparação com o 1T21,\\nnúmero bem abaixo da inflação acumulada no período, mesmo com investimentos\\nna aquisição de clientes e na evolução digital.\\n\\nAs Despesas de Pessoal cresceram 8,5% no comparativo anual, apesar do acordo\\ncoletivo de 10,97% que ocorreu em setembro de 2021.\\n\\nContinuamos promovendo crescimento importante nas equipes de TI, analytics e\\nem times de negócios, como especialistas de investimento. Mesmo com todos os\\ninvestimentos que estamos realizando no banco, o número total do quadro se\\nreduziu em 1,3% em um ano.\\n\\nAs Despesas Administrativas cresceram 5,6% também no comparativo anual,\\ndemonstrando que absorvemos boa parte da inflação acumulada, 11,3% do IPCA e\\n14,7% do IGP-M, além do aumento do volume de negócios, que impactam nossas\\ndespesas variáveis.\\n\\nEntre os fatores que contribuíram para o bom desempenho das despesas\\nadministrativas, temos ações de destaque como a otimização da rede de\\nautoatendimento, promovendo uma redução de 4,2 mil máquinas próprias, ou 13,9%\\nno período de um ano. Também continuamos a revisar nossa presença física,\\nbuscando a evolução do atendimento aos nossos clientes para um modelo cada vez\\nmais consultivo e menos transacional. A otimização total para este ano será de 491\\nagências, sendo 269 convertidas para unidades de negócios, 134 convertidas em PA\\ne 88 fechadas/incorporadas.\\n\\nAlém disso, vale destacar que em nossas despesas de pessoal e administrativas já\\nestão incluídos os investimentos relacionados a expansão de nossas iniciativas\\ndigitais, Next, Ágora, Bitz e Digio. Se esses investimentos não tivessem ocorrido, o\\ncrescimento de nossas despesas totais seria a metade.\\n\\nVale ainda mencionar, em nossas iniciativas digitais, neste ano, estamos fazendo um\\ntrade-off em crescimento, privilegiando a ativação, retenção e fidelização dos\\nclientes.\\n\\nA linha de Outras Despesas apresentou contração de 15,5%, principalmente por\\nmaiores níveis de provisões no ano passado. Nossa expectativa é que essa linha\\napresente redução em 2022.\\n\\nO Grupo Segurador teve expansão no faturamento de 13,2%, observado em todas\\nas linhas de negócios, acompanhado de aumento da quantidade de contratos como\\ntambém na quantidade de veículos, residências e vidas, no comparativo anual. Essa\\nperformance foi obtida em todos os canais de distribuição e parceiros de negócios,\\ncom destaque para o desempenho dos canais digitais, com expansão de 56% no\\nprimeiro trimestre 2022.\\n\\nO Resultado das Operações de Seguros apresentou melhora de seu desempenho\\nno 1T22 em função do crescimento do faturamento e melhora do resultado\\nfinanceiro no período.\\n\\nO volume de sinistros relacionados à Covid no 1T22 foi de R$512 milhões, o menor\\nda série desde o início 2021 e 54,7% menor que o mesmo período do ano passado.\\nApesar do aumento recente de demandas em função da nova variante Ômicron, não\\nobservamos a mesma severidade dos períodos anteriores. Os casos de internação\\nsão bem menos frequentes e a recuperação tem ocorrido em menor tempo.\\n\\nMudamos para o slide 12.\\n\\nO índice Nível 1 permaneceu no mesmo patamar do período anterior, bem acima do\\nmínimo regulatório. O lucro do período foi suficiente para absorver a distribuição\\naos acionistas na forma de JCP, os ajustes prudenciais e o crescimento da carteira\\nde crédito.\\n\\nOs indicadores de liquidez também permaneceram em patamares bastante\\nconfortáveis.\\n\\nMudando para o slide 13, vamos falar sobre a nossa expansão digital.\\n\\nDurante os últimos dois anos apresentamos para vocês o movimento de aceleração\\ntecnológica que vivemos e que foi intensificado pela pandemia. Hoje, com a vida\\nmais próxima ao normal, gostaria de falar para vocês sobre outro momento: o de\\nfidelização por experiência e valorização da autonomia. Se antes, e principalmente\\nno âmbito financeiro, muitas pessoas tinham receio ou preferiam utilizar os canaisfísicos para fazer transações e adquirir produtos e serviços, hoje essa realidade é\\ncompletamente diferente.\\n\\nMuitos dos nossos clientes agora priorizam a experiência digital. Prova disso é que,\\ndo nosso total de transações, 98% são realizadas pelos Canais Digitais Bradesco.\\nDesse total, 93% estão concentradas no Mobile e Internet. E o crescimento continua\\nacelerado. Se considerarmos apenas o comparativo dos três primeiros meses deste\\nano com o mesmo período do ano passado, tivemos um crescimento significativo\\nde 92% nas transações financeiras via Mobile.\\n\\nEssa expansão da experiência digital também se reflete no número de Clientes\\nDigitais, que hoje representam quase 70% dos clientes Bradesco. Um número que\\nsó cresce e que deve continuar em evolução. A abertura de contas pelo App também\\napresenta uma tendência de crescimento. Encerramos o primeiro trimestre deste\\nano com um crescimento 5 vezes maior do que no mesmo período de 2021. Gostaria\\nde destacar, também, o crescimento de 72% de aberturas de contas MEI, mostrando\\na força do nosso posicionamento no segmento de microempreendedores.\\n\\nPassamos para o slide 14.\\n\\nO relacionamento com clientes mais digitais nos leva para um cenário de novas e\\nmaiores oportunidades de negócios, sempre voltadas para um desenvolvimento\\nsustentável. Nesse trimestre, observamos os canais digitais como protagonistas na\\noferta de crédito. Para pessoas físicas, o número de operações de crédito liberadas\\npor meio dos Canais Digitais Bradesco já representa 73% do total.\\n\\nTambém percebemos a movimentação de empreendedores com foco na retomada\\npós pandemia. Estamos em contínua evolução das nossas plataformas voltadas à\\npessoa jurídica, inclusive com startups parceiras. No comparativo anual, a liberação\\nde crédito digital PJ evoluiu 48%, atingindo R$ 10,1 bilhões.\\n\\nMudamos para o slide 15.\\n\\nEm adição aos indicadores de desenvolvimento digital apresentados nos slides\\nanteriores, trouxemos para vocês nesse slide números que demonstram que não é\\nsomente em produtos de crédito que tivemos evolução relevante. Consórcios,\\ninvestimentos, produtos de seguros, entre outros, apresentaram crescimentos\\nconsistentes.\\n\\nTambém contribuíram para a evolução nas vendas o lançamento de novas\\nfuncionalidades, como, por exemplo, a emissão dos cartões de crédito em D0 e\\npossibilidade do cliente adicionar o novo cartão a sua wallet imediatamente após a\\naprovação, sem a necessidade de aguardar a emissão física.\\n\\nMudamos agora para o slide 16 para falar de nossas iniciativas digitais.\\n\\nA Ágora cresceu 50% sua captação líquida em um ano e chegou a 785 mil clientes.\\n\\nO next cresceu a sua base de clientes 153% em um ano e chegou a 11 milhões de\\nclientes. O volume transacionado praticamente dobrou no mesmo período. O next\\nentra nesse ano em fase mais focada na rentabilização de clientes.\\n\\nO Bitz chegou a 9,5 milhões de downloads e 6,0 milhões de clientes. Ele se tornou a\\nporta de entrada de clientes em fase de bancarização.\\n\\nNesse trimestre, concluímos a transação do Digio, que já está totalmente\\nincorporado em nossos números. São 3,9 milhões de contas que tiveram um TPV de\\nR$ 2,5 bilhões nesse primeiro trimestre.\\n\\nNossas iniciativas digitais seguirão crescendo nesse ano, já buscando o\\naprofundamento do relacionamento com os clientes com foco na rentabilização.\\n\\nPassamos para o slide 17, onde falamos sobre sustentabilidade.\\n\\nAtualizamos nossa estratégia de sustentabilidade, que agora se fundamenta em 3\\npilares estratégicos: Negócios Sustentáveis, Agenda Climática e Cidadania\\nFinanceira, pois esses temas demandam uma agenda de mudança mais ativa e maior\\nfoco estratégico.\\n\\nPara cada um desses 3 pilares, assumimos compromissos públicos para\\npotencializar nossa contribuição com o Desenvolvimento Sustentável.\\n\\nNo pilar de Cidadania Financeira, por exemplo, acabamos de assumir junto à ONU o\\nCompromisso de Educação e Inclusão Financeira, sendo o único banco brasileiro a\\nfazer parte desse seleto grupo de 28 bancos signatários. É a nossa declaração\\npública de que almejamos contribuir cada vez mais com a inclusão financeira e a\\npromoção da saúde financeira de clientes e da sociedade.\\n\\nSeguimos comprometidos com a Meta de direcionar R$ 250 bilhões a setores e\\nativos de impacto socioambiental positivo até 2025, onde até março de 2022 já\\nalcançamos R$ 107 bilhões, ou 43% da meta.\\n\\nNa Agenda Climática, temos uma participação ativa tanto na ONU, através do Net-\\nZero Banking Alliance, quanto do GFANZ (aliança global das principais instituições\\ndo setor financeiro para acelerar a transição para uma economia mais limpa).\\n\\nSustentabilidade é um dos nossos 4 pilares da Estratégia Corporativa, alinhado ao\\nnosso propósito de “Criar Oportunidades para a Realização das Pessoas e para o\\nDesenvolvimento Sustentável das Empresas e da Sociedade”, e queremos continuar\\ncomo líderes e protagonistas dessa agenda em nível global.\\n\\nMudamos para a página 18.\\n\\nEm vista das significativas mudanças nas dinâmicas dos mercados em que atuamos,\\nrevisamos o guidance de forma a refletir nossa atual performance e nossas\\nexpectativas.\\n\\nOs spreads têm ficado acima dos patamares que estávamos esperando, e não\\nvemos pressões adicionais em 2022. Isso tem permitido uma reprecificação mais rápida da carteira de crédito; além disso, no mix temos tido um crescimento em\\nprodutos com maiores spreads. Também temos capturado um benefício maior que\\no estimado na margem de passivos, que compõe a Margem com Clientes.\\n\\nAssim, atualizamos nosso guidance de Margem com Clientes de forma significativa\\npara 18 a 22% de crescimento contra 8 a 12% anteriormente.\\n\\nPara a linha de PDD Expandida, em função da intensificação do crescimento em\\ncarteiras de maior retorno, alteramos nossas expectativas, que antes eram de R$15\\na 19 bilhões para a nova faixa de R$17 a 21 bilhões.\\n\\nPara Receitas de Prestação de Serviços, considerando a performance observada\\nneste início de ano e nossas expectativas para o restante do ano, atualizamos a faixa\\ndessa linha para um crescimento de 4 a 8%.\\n\\nEm Despesas Operacionais, continuamos com foco na eficiência e controle absoluto\\ndas despesas, mesmo contemplando investimentos nas nossas iniciativas digitais e\\nna evolução tecnológica do nosso negócio. Atualizamos o guidance anterior para\\numa nova faixa entre 1 e 5% pelas razões já comentadas anteriormente.\\n\\nMantivemos o guidance para as linhas de Seguros e de Carteira de Crédito\\nExpandida.\\n\\nEm Seguros, devemos caminhar para o range do guidance, do meio para cima. O\\nresultado deve se beneficiar pelo crescimento dos prêmios, índices financeiros mais\\nfavoráveis e uma base de comparação menor em alguns trimestres de 2021, que\\nforam impactados pela pandemia. Nesse mês de março, por exemplo, o Grupo\\nSegurador teve um realizado 16% maior que no ano passado, já bem próximo ao\\nGuidance.\\n\\nEm Carteira de Crédito Expandida, vemos um crescimento compatível com a faixa\\napresentada, de 10% a 14%, em função do elevado crescimento no ano anterior,\\nmas com um mix mais favorável.\\n\\nPor enquanto, continuamos com a nossa política de não dar guidance oficial para a\\nMargem com o Mercado, mas em benefício da transparência, informamos que não\\nesperamos que esta linha tenha resultado incremental ao longo dos próximos\\ntrimestres de 2022.\\n\\nObrigado pela atenção de todos, passamos agora para a seção de perguntas e\\nrepostas.\\n\\nOperador – Obrigado, iniciaremos agora a sessão de perguntas e respostas. Para\\nfazer uma pergunta, por favor, digitem *1 e para remover a pergunta da fila,\\ndigitem *2. A nossa primeira pergunta vem de Eduardo Rosman, BTG. Por favor,\\npode prosseguir.\\n\\nEduardo Rosman (BTG Pactual) – Bom dia a todos, a minha pergunta é sobre o\\nguidance, a gente viu uma mudança importante nas entrelinhas e acho que o\\nguidance indica que o core, o NII de clientes, está melhor. Sei que é muito cedo parafalar de 2023, estamos ainda no começo do ano e tem muita coisa acontecendo mas\\ndá para dizer que a composição desse novo guidance tem um carrego positivo para\\n2023? Dá para dizer isso? Obrigado!\\n\\nOctavio de Lazari Junior – Oi, Eduardo, bom dia, é um prazer falar com você!\\nEduardo, a gente fez revisões de guidance, a gente entendeu que era necessário\\npelo bem da transparência e da relação que a gente sempre teve com vocês, os\\nindicadores, o giro da carteira, a resiliência da inflação que vai manter a taxa de juros\\nelevada por mais tempo, quer dizer, aquela perspectiva que nós tínhamos no final\\ndo ano passado de que poderia haver uma redução de taxa de juros, de Selic, ainda\\nno ano de 2022 e depois 2023, parece que não tem mais dúvida nenhuma de que\\nnão vai acontecer, essa taxa de juros vai continuar alta ao longo de 2022 e se houver\\nredução, vai ser só talvez no segundo semestre de 2023. Os fatores exógenos\\nmudaram muito rapidamente ao longo do primeiro trimestre, foi guerra, inflação\\namericana, inflação européia, dólar voltou para R$4,50, já está de novo em mais de\\nR$5,00, então aconteceu muita coisa ao longo do primeiro trimestre, isso nos deixou\\nmuito confortáveis, muito tranquilos de que a gente tinha que fazer essa revisão. E\\nessa revisão que a gente fez, você observou com muita sabedoria, ela vai nos trazer\\num carrego positivo para 2023. Você sabe muito bem, a carteira de crédito que a\\ngente está conseguindo girar, que foi originada e não é pouca, é uma carteira de\\ncrédito de mais de R$800 bilhões e foi originada lá atrás, a gente vem crescendo a\\ncarteira de crédito há 2-3 anos, a 2 dígitos altos e foi originada com uma Selic de\\n2%, ela está sendo girada a uma Selic já de 12,75% e uma Selic que pode aumentar\\nainda mais, então a expectativa para 2023 certamente é a de que a gente vai ter um\\ncarrego positivo disso que nós estamos plantando agora. Além, lógico, traz um\\npouco mais de PDD, mas por outro lado, traz um spread melhor que são as\\noperações que a gente vem fazendo, porque é meio natural que o crédito imobiliário\\nvocê reduza a produção, não porque quer reduzir, mas é natural que aconteça; uma\\noperação de crédito imobiliário de 20-30 anos com uma taxa de juros de 12%-13%\\né uma operação que vai ter uma produção menor, nós estávamos produzindo R$2,5-\\nR$3bi por mês de crédito imobiliário, estamos fazendo agora R$1,2-R$1,5bi porque\\nas pessoas não querem tomar um crédito de 20 anos com uma taxa de juros desse\\ntamanho. As empresas devem tomar muito mais linhas de capital de giro para\\natender o curto prazo do que investimentos vultuosos de longo prazo porque a taxa\\nde juros está elevada, então a gente tem sim uma boa convicção de que teremos\\num carrego positivo para 2023 em função das medidas que a gente está tomando\\nem 2022 e que fizeram inclusive, que a gente revisse o guidance.\\n\\nEduardo Rosman (BTG Pactual) – Ótimo, Octavio, só mais uma pergunta, acho que\\nvocê falou e vocês estão realmente surpreendendo nos custos, acho que mais uma\\nvez e vocês estão com várias iniciativas que já não são novas, mas tem o Bitz, tem a\\nÁgora, tem o Next, e como fica o investimento nessas iniciativas nesse ambiente\\nobviamente de juros muito mais altos? Vocês vão continuar investindo pesado, ou\\nrealmente em um ambiente de juros mais altos, essas iniciativas acabam, digamos,\\nque os resultados delas vão demorar um pouco mais de tempo para contribuíremnos números do Bradesco e tem que ter também um controle de custos maior ali.\\nSeria interessante se você pudesse falar um pouco sobre isso, obrigado!\\n\\nOctavio de Lazari Junior – Obrigado, Eduardo! De fato, você tem razão, a gente\\ntem que ter um controle de custos muito rigoroso tanto o Renato, como o Curt,\\ncomo o Giovane, o Luiz Cláudio lá da Ágora, a gente tem um trabalho muito intenso\\nde controle de custos e investir naquilo que de fato vai poder trazer resultados. Por\\nisso que eu disse que tem um pouco de trade-off nesse ano de 2022, vamos\\nprivilegiar menos o crescimento muito acelerado e privilegiar mais a retenção, a\\nfidelização e a rentabilização desses clientes. Se a gente olhar as nossas apostas\\ndigitais, não vou nem colocar a Ágora aqui, mas apenas essas três, estamos falando\\npraticamente de 20 milhões de clientes nessas três apostas digitais, Next, Bitz e\\nDigio, até um pouco mais do que isso. É um número importante de clientes que a\\ngente tem para rentabilizar, então estamos fazendo um trade-off de crescimento,\\naté porque a gente está vendo o que está acontecendo com as empresas de growth\\nversus as empresas de valor, então nós estamos vendo o movimento que está\\nacontecendo no mercado dessas empresas de growth, comparado com as\\nempresas de value, as empresas de valor, então são apostas que a gente vai\\ncontinuar investindo, são apostas que a gente já viu que elas são vitoriosas, todas\\nelas, pelos clientes que trazem e são empresas que rapidamente vão poder, se não\\nfor fazer negócios, trazendo um parceiro ou fazendo um IPO, certamente serão\\ntrazendo ganhos de equivalência para a organização. Então são negócios que ainda\\nexigem investimentos e por isso comentei sobre o total de despesas, o quanto é de\\ninvestimentos que estamos fazendo nos negócios digitais, mas sim são negócios\\nimportantes pela fidelização e manutenção de clientes, do crescimento da base de\\nclientes que esses negócios trazem para nós.\\n\\nEduardo Rosman (BTG Pactual) – Está ótimo, Octavio, muito obrigado!\\n\\nOperador – Lembramos que para fazer perguntas, basta digitar *1. Pedimos a\\ngentileza que os participantes se limitem a apenas uma pergunta. Seguimos com\\nJason Mollin, Scotiabank.\\n\\nJason Mollin (Scotiabank) – Bom dia a todos e obrigado pela oportunidade de\\nfazer perguntas. A minha pergunta sobre guidance e despesas de investimentos já\\nforam respondidas então a minha pergunta é se vocês podem falar sobre o cenário\\ncompetitivo hoje em comparação com a pré-pandemia, especificamente para\\nprodutos como conta corrente, cartões de crédito e crédito imobiliário. Em quais\\nsegmentos o Bradesco sente a presença de novos entrantes, onde o Bradesco tem\\nvisto mais pressão na precificação, taxas de contas, fees de gestão, spread de\\ncrédito, pagamentos e etc? E a segunda pergunta tem a ver com o ambiente\\nregulatório e político, primeiro, se puder discorrer sobre o projeto de aumento de\\nimpostos para bancos e instituições financeiras, se vocês podem fornecer uma atualização sobre o que está sendo discutido e, em segundo lugar, ouvimos na mídia\\ndeclarações do presidente Bolsonaro em que ele afirmou que haveria um anúncio\\nfantástico que revolucionaria as transações financeiras no Brasil, o Bradesco sabe o\\nque será isso? Se de fato estamos recebendo perguntas, se o Brasil pode introduzir\\numa moeda digital do Banco Central no curto prazo? Obrigado!\\n\\nOctavio de Lazari Junior – Obrigado, Jason, é um prazer falar com você! Jason, o\\ncrescimento das carteiras de crédito vem acontecendo de uma forma importante,\\ncom uma concorrência mais acirrada, principalmente por conta dos neo-banks, e\\nquando falamos de neo-banks, estamos falando muito mais de linhas de cartão de\\ncrédito, que é a grande concorrência, mas também já começa um pouco no crédito\\npessoal, basicamente são essas duas linhas. No crédito imobiliário, basicamente\\npela necessidade de funding para fazer essas operações, a concorrência se dá nos\\ncinco grandes bancos de mercado, um aqui, outro ali, mas normalmente são esses\\ncinco bancos que têm 98% da produção. E a concorrência é uma concorrência\\nnatural, você vê que as taxas de juros não têm muita diferença de um banco para\\noutro, exceto o banco estatal que tem um crédito imobiliário voltado mais para as\\nclasses menores da população, de resto é uma concorrência normal, tanto é que a\\ngente está mais ou menos com os mesmos níveis de produção, então não vejo um\\nataque dos neo-banks nessas linhas de crédito imobiliário. Nós tivemos que andar\\nrápido com relação ao cartão de crédito para poder competir de igual para igual,\\nesses neo-banks hoje trabalham com um cartão de crédito que não tem anuidade,\\nenfim, o trabalho do banco foi da mesma maneira de que nós temos investimentos\\nimportantes nos nossos negócios digitais, você tornar o nosso “bancão”, o nosso\\nBanco Bradesco incumbente, tão digital quanto as iniciativas digitais, então você\\nveja o crescimento que aconteceu no número de cartões de crédito, número de TPV,\\nde faturamento do cartão de crédito também dentro do banco, tanto é que deu uma\\nevolução de 45%, então são novos produtos, jornada mais adequada, assim que o\\ncartão for aprovado, cliente já pode incorporar na wallet dele e passar a usar, então\\ntem uma série de trabalhos que foram feitos, então entendemos que nós estamos\\nem uma boa condição de competição, similar com os neo-banks. Em contas\\ncorrentes, como eu disse para vocês, você viu a quantidade de contas que a gente\\nvem abrindo não só no Bradesco, mas também nas iniciativas digitais. As iniciativas\\ndigitais, como eu disse, já representam 18-20 milhões de clientes para nossa\\ncorporação, sem falar dos clientes do Banco Bradesco. Então eu acho que a pressão\\nmaior que pode haver é cartão de crédito e crédito pessoal em menor escala. Com\\nrelação ao aumento de impostos, já aconteceu agora da CSLL que infelizmente a\\ngente não tem muito o que fazer, temos que participar ou, de alguma forma,\\ncontribuir para que pudesse ser atendida aquela necessidade com relação ao Refis\\ndas Pequenas e Micro Empresas, enfim, está dado e acho não deve ter nenhuma\\nnovidade ao longo desse ano. Existem muitos projetos no governo com relação à\\ntributação de dividendos e de outras coisas, mas isso não tem nada definido, vamos\\ncontinuar acompanhando de perto para ver o que vai acontecer. Com relação a\\nqualquer novo produto ou situação no mercado financeiro que possa ser\\nrevolucionário, eu acho que a única coisa que nós temos é o PIX, tem agora o\\nassunto da CBDC, da moeda digital, mas é um processo que ainda precisa de uma\\nmaturação, precisa de testes porque é um processo cuidadoso de testar tudo isso,porque nós estamos lidando com milhões de pessoas no Brasil e portanto precisa\\nter toda a segurança com relação à fraude, com relação à LGPD/lavagem de\\ndinheiro, enfim, tudo aquilo que nós sabemos que é necessário e exigido de todos\\nnós, não só bancos incumbentes mas agora também os neo-banks tendo uma\\nexigência regulatória muito maior, não só de capital mas também com relação à PLD,\\nà verificação dos clientes, à Know Your Client e todo o escopo regulatório que o\\nBanco Central vem tomando as medidas. Acho que vem diminuindo um pouco a\\nassimetria regulatória com a última divulgação do Banco Central da exigência de\\ncapital, está certo que começa só a partir de 2023 com previsão final de 2025, mas\\npelo menos já foi um passo dado para que haja exigência de capital pelos riscos que\\ncada um desses bancos pode representar para o mercado financeiro, seja em um\\nproduto ou como um todo. Então acho que nós estamos caminhando sempre, já há\\nalguns anos, em um mercado de maior concorrência, mas acho que os bancos\\nincumbentes souberam e estão sabendo se posicionar para poder concorrer bem\\nnesse mercado.\\n\\nJason Mollin (Scotiabank) – Aprecio muito seus comentários, obrigado!\\n\\nOperador – Obrigado! Estamos interessados em ouvir todos, para isso, pedimos,\\npor gentileza, que se limitem a uma pergunta. Seguimos com Marcelo Telles,\\nCredit Suisse.\\n\\nMarcelo Telles (Credit Suisse) – Olá, bom dia a todos e obrigado pela\\noportunidade de fazer perguntas. Bom dia, Octavio, Leandro e a todo o management\\ndo Bradesco. A minha pergunta é em relação ao ritmo de originação de crédito e ao\\napetite de risco de vocês. Olhando os dados da apresentação, vocês mostraram que\\na originação do crédito pessoa física caiu 14% no ano contra ano e olhando os dados\\ndo 4T21, ela estava mais ou menos flat, tinha crescido perto de 1% e agora caiu 14%\\nno ano contra ano e olhando os dados do Banco Central, pelo menos até fevereiro,\\nas originações diárias, nós vemos que teve um aumento no crédito de varejo pessoa\\nfísica de 13%. Então o BC está indicando um aumento das originações e, no caso de\\nvocês, uma queda no ano contra ano; se puder reconciliar um pouco isso para gente,\\ncomo é que vocês estão vendo o ambiente, se vocês estão adotando uma posição\\num pouco mais cautelosa e em quais segmentos. E uma pergunta relacionada a isso,\\ncomo vocês estão vendo a performance da carteira de cartões de crédito de vocês,\\nentre os clientes do Bradesco mesmo e os clientes do Banco Next, tem uma\\nperformance muito diferente entre esses clientes? Obrigado!\\n\\nOctavio de Lazari Junior – Obrigado, Marcelo, é um prazer falar com você! Marcelo,\\no ritmo de originação como a gente mostrou aqui, ele diminuiu um pouco, mas\\nbasicamente tem muito a ver, eu digo que 80%-90% dessa diminuição, ela se reflete\\nna pessoa física ao crédito imobiliário porque, como eu disse, a gente estava\\noriginando R$3 bilhões por mês e agora estamos originando R$1,2-R$1,5bi, não porque diminuiu o nosso apetite, mas porque a taxa de juros leva as pessoas a uma\\nreflexão melhor se vai para uma operação de 20-30 anos com uma taxa de juros\\ndesse tamanho, o que é natural e também é uma diminuição do volume, do valor\\ntomado pelo cliente, ele procura dar mais entrada, financiar um pouco menos para\\nque ele possa ter maior tranquilidade para pagar. Então acho que o ritmo da\\noriginação vai diminuir mesmo, Marcelo, acho que é natural pelo aumento da taxa\\nde juros, não tem muito jeito porque a gente tem que lembrar também da base\\ncomparativa, a gente vem crescendo há 3 anos dois dígitos altos de crescimento de\\ncrédito, então a base comparativa também é diferente. O apetite ao risco - não é\\nnecessariamente que a gente diminuiu o apetite ao risco, é que quando nós\\nincorporamos as novas taxas de juros nos modelos de credit score, nos modelos de\\nanalytics, Marcelo, naturalmente você acaba tirando algumas pessoas porque você\\ntem uma taxa de juros maior, o ponto de corte muda e, portanto, o cliente precisa\\nter mais renda ou a operação precisa ser de um valor menor para que ele possa ser\\naprovado nos modelos de crédito, então, isso é um efeito natural quando você\\nmuda a variável taxa de juros, sai de uma Selic de 2% e vai para uma Selic de 12,75%,\\né natural que os modelos acabem colocando menos pessoas para dentro, então\\nacho que isso é um pouco do está acontecendo. A gente também tem que olhar sob\\no olhar de investimento das empresas, como eu comentei, grandes projetos,\\ninvestimentos mais vultuosos, investimentos que as empresas estejam fazendo de\\nlongo prazo, eles ficam um pouco prejudicados porque todo mundo quer esperar\\num pouco, esperar o que vai acontecer com as taxas de juros, a volatilidade, como\\nvocê sabe bem, é um grande problema, as vezes as taxas de juros podem até estar\\num pouco maiores desde que não tenha tanta volatilidade, mas a volatilidade muito\\nalta e taxas de juros em crescimento forte, a inflação, a volatilidade do dólar que\\nchegou a R$4,50, voltou para R$5,00, e o cenário econômico mundial também, acho\\nque levam as empresas também a serem cautelosas em seus investimentos mais\\nvultuosos e isso também muda o seu desempenho em crédito, a sua originação de\\ncrédito, que fica mais com linhas no curto prazo de capital de giro, para atender um\\npouco o que vai acontecer ao longo de 2022 e todas as empresas um pouco no\\ncompasso de espera para ver o que acontecerá em 2022 para poder se posicionar\\nem 2023. Então acho que esse é um pouco do cenário, não que a gente tenha\\nperdido o apetite, a gente tem apetite sim, desde que tenhamos spread para pagar\\no custo de capital que é preponderante, isso a gente tem que levar sempre em\\nconsideração. E com relação ao cartão de crédito, o crescimento foi acompanhado\\nda volta das pessoas a circularem, a ir para shopping, a fazer compras, então ele\\nacompanhou um pouco essa mudança do perfil das pessoas em função das\\nmenores restrições de pandemia, tanto é que o faturamento do cartão de crédito\\nno 1T22 foi maior do que o final de ano de 2021, o que não é normal, final do ano\\ntem natal e etc, era para ser maior, mas foi isso que aconteceu. A gente entende que\\nvai ter um pouco mais de inadimplência porque a gente sabe que a inadimplência de\\ncartão de crédito é maior, mas também a receita que o cartão de crédito deixa é\\nmuito melhor e paga com sobra um eventual aumento de inadimplência que a gente\\ntenha, por isso que a gente procurou frisar que entendemos que a inadimplência\\nvoltou aos níveis históricos de 2019, antes da pandemia, mas que ela deverá crescer\\n10 ou 20 pontos ao longo do 2T22 para depois estabilizar em um patamar mais\\nelevado, um patamar de antes da pandemia e manter esse patamar.\\n\\nMarcelo Telles (Credit Suisse) – Muito obrigado!\\n\\nOperador – Seguimos com Thiago Batista, UBS.\\n\\nThiago Batista (UBS) – Olá, pessoal, obrigado pela oportunidade! Minha pergunta\\né sobre a margem com mercado, acho que essa indicação da margem com mercado\\npróxima de zero, acho que ninguém esperava há um tempo atrás. Se vocês puderem\\nfalar um pouco dessa dinâmica da margem com mercado e qual deve ser o nível\\nmais normalizado quando a Selic talvez não estiver mais movendo tanto, qual o\\nnível que a gente pode esperar dessa margem com mercado? A segunda é só um\\nfollow-up, você comentou, Octavio, da inadimplência subir 10-20bps no 2T22 e\\nseguir mais estável no 2S22, nesse cenário, vocês imaginam voltar a vender mais\\nforte carteira ativa, acho que ano passado vocês venderam mais ou menos R$4,5bi,\\nesse trimestre foi muito pouco, dá para imaginar que vocês voltam a vender R$1\\nbilhão ou alguma coisa dessa magnitude que era mais ou menos o nível normal de\\n2021 nesse seu cenário de 10-20bps de piora no 2T22 e mais estável no 2S22?\\n\\nOctavio de Lazari Junior – Obrigado, Thiago, pelas perguntas! Thiago, com relação\\nà margem com mercado, é um fator pontual. Você conhece bem e sabe bem disso,\\no Bradesco é um banco que tem mais de R$800 bilhões de ativos de crédito e um\\nbanco que não parou de fazer crédito ao longo dos anos, mesmo na pandemia a\\ngente continuou acelerando o crédito, se pegar nos últimos 3 anos, nós crescemos\\ndois dígitos altos na carteira de crédito, seja na pessoa jurídica grande, seja na\\npequena e média empresa, seja nas pessoas físicas, então a gente não tirou o pé do\\nacelerador no crescimento. É natural - naquele momento em que você gerou a\\ncarteira, nossa última Selic era de 2% e você teve uma subida extremamente rápida,\\nrepentina e violenta das taxas de juros no país, não foi como nos EUA que saiu de\\n1% para 1,5% ou de 0,5% para 1%, mas foi de 2% para 12,75%, então você tem que\\nter um tempo para girar essa carteira, nós estamos conseguindo girar essa carteira\\nmuito mais rápido. Então esse fato da margem com mercado é absolutamente\\npontual, específico desse momento que estamos vivendo, por isso até que respondi\\npara o Eduardo, do carrego positivo para o ano de 2023, porque esse fato da\\nmargem com mercado se resolve ao longo do tempo, com a criação e a geração da\\ncarteira nova com a Selic nova, então você resolve isso e passa a trazer uma margem\\ncom mercado positiva que já acontece ao longo do ano de 2023 com o ritmo que a\\ngente tem de renovação da carteira, então é uma situação pontual que acontece em\\num momento que possui uma volatilidade muito intensa, nós já vimos acontecer em\\nanos anteriores, em momentos da história do nosso país, mas que rapidamente você\\nrecupera porque gira a carteira, gera novas operações e volta a ter uma posição\\npositiva de ALM. Com relação à inadimplência que você comentou, de fato a gente\\ntem a expectativa de subir 10-20 pontos, depois ela se estabiliza já em um nível mais\\nalto, similar ao que tínhamos antes da pandemia, e nesse trimestre você observou\\nbem, nós não fizemos venda de carteira, seja de carteira ativa ou não, a gente vai continuar fazendo venda da carteira na medida em que nós vermos que há uma\\noportunidade importante e rentável, que faça sentido para nós, tem uma delas que\\nestá em estudo e deve acontecer ao longo do 2T22, mas estamos avaliando ainda.\\nE sempre que tivermos a oportunidade, você vai gerando carteira, vai gerando\\ninadimplência, tem NPL, aí você compara, é melhor eu cobrar essa carteira, ou é\\nmelhor eu vender? O que a gente tem observado ultimamente é de que está muito\\nmais adequado você vender as carteiras, agora com o aumento das taxas de juros\\nnós temos que colocar isso na balança, mas sim, respondendo afirmativamente a\\nsua pergunta, a gente continua estudando e certamente teremos alguma venda de\\ncarteira ao longo de 2022.\\n\\nThiago Batista (UBS) – Muito obrigado!\\n\\nOperador – Seguimos com Flavio Yoshida, Bank of America.\\n\\nFlavio Yoshida (Bank of America) - Olá, bom dia a todos. Bom dia, Octavio,\\nobrigado pela oportunidade de fazer pergunta. Eu queria explorar um pouco o tema\\nde qualidade da carteira. Você acabou de comentar que a inadimplência deve subir\\nmais um pouco e vocês comentam que deve retornar ao nível pré-pandemia.\\nQuando olhamos por segmento de forma separada, o segmento de pessoa física já\\nestá em um nível pré-pandemia, então eu gostaria de entender se essa piora que\\nainda vem, vem em todos os segmentos ou se será mais focada para grandes\\nempresas que está com uma inadimplência baixa, e queria entender também o que\\ndá confiança para vocês de afirmar que a inadimplência deve se estabilizar já ao\\nlongo do segundo semestre. O que vocês estão enxergando que dá confiança para\\nfazer essa afirmativa?\\n\\nOctavio de Lazari Junior - Flavio, você observou muito bem esse fato da pessoa\\nfísica já ter voltado aos níveis de pré-pandemia e a pessoa jurídica, principalmente\\nas grandes empresas, estar em um nível mais baixo. É exatamente isto que você\\nfalou, o mix mudou. As grandes empresas estão procurando menos crédito, talvez\\nse valendo mais do mercado de capital para financiar as suas atividades. Então, o\\nmix da carteira mudou. É menos crédito para a pessoa jurídica grande, menos crédito\\nimobiliário e mais crédito de capital de giro, de crédito pessoal. O consignado\\ncontinua crescendo, então o mix da carteira mudou. E como mix da carteira mudou\\npara operações que tenham um spread maior, é natural que venha uma PDD maior,\\numa provisão maior. Observamos sempre quando há essa mudança de mix. Você\\ntinha um crescimento grande de crédito imobiliário, menor nas outras carteiras,\\nprincipalmente de cartão de crédito. Quando acontece essa mudança de mix, isso\\ntraz uma inadimplência maior, mas também ela tem spreads melhores que pagam\\nessa inadimplência. Então, acho que esse é um pouco do cenário que a gente vai\\nobservar ao longo do ano de 2022. Uma mudança de mix da carteira para carteiras\\nmais rentáveis e com maior risco, porém mais rentáveis. Por isso que nósentendemos que a inadimplência não deve reduzir, mas sim manter os níveis\\nanteriores da pandemia, até um crescimento de 10 a 20 bps, como eu disse para\\nvocês aí ao longo do 2T22.\\n\\nLeandro Miranda - Só para complementar a resposta do Octavio, quando olhamos\\ncada uma das linhas de produto, a inadimplência relativa não mudou. Então, você\\nnão está com uma deterioração pior em cada um dos produtos. O que você teve,\\ncomo o Octavio comentou, só uma preponderância maior no mix geral por cliente.\\n\\nFlavio Yoshida (Bank of America) - Entendi, obrigado! Ainda nesse tema, um fato\\nque chama a atenção acaba sendo o crescimento do cartão de crédito. Cresceu se\\nnão me engano, 46% no ano. Ele é uma linha que de certa forma preocupa o\\nmercado pela oferta de cartões que todas as instituições acabaram fazendo ao\\nlongo do último ano. Eu queria entender como vocês estão enxergando o risco\\ndessa carteira específica. Se vocês, como têm um cliente que é correntista e tem\\nfolha de pagamento, e você de fato consegue fazer uma seleção melhor de cliente\\ne de fato ofertar o cartão para um cliente com menor risco, ou se vocês estão\\nachando que essa linha como um todo pode apresentar uma deterioração de\\ninadimplência ao longo do ano?\\n\\nOctavio de Lazari Junior - Flavio, bem observado por você. O crescimento do\\ncartão de crédito que a gente vem observando no banco, está muito voltado para\\nos clientes do Bradesco, ou seja, aquelas pessoas que já operam com o Bradesco.\\nEntão temos o histórico de crédito dessas pessoas e, portanto, obviamente que\\nvocê pode ter uma inadimplência um pouco maior, mas são clientes que já temos\\num conhecimento prévio maior, ou seja, não é um crescimento de cartão de crédito\\nno mercado, no red ocean, é em um mercado que já temos um pouco mais de\\ncontrole. Isso também vale para os bancos digitais. Vale para o next, vale para o\\nDigio. O crescimento desse volume de cartão de crédito. Então são clientes que nós\\njá temos um conhecimento um pouco maior.\\n\\nCarlos Firetti - Além disso, acho que é importante dizer que nós temos capturado\\num crescimento bastante grande, como o Octavio falou, na base de clientes, mas\\nesse crescimento todo do volume, ele tem a ver com a reabertura da economia,\\nreabertura de atividades de lazer, viagens, dos cartões corporativos que temos uma\\noperação bastante importante, e tem a ver também com a inflação. Você tem itens\\nde consumo, dentro do consumo de cartão de crédito, como por exemplo\\npassagens aéreas, combustíveis, que têm um aumento bastante substancial, e são\\natividades que têm uma concentração de volume muito grande dentro das\\noperações de cartão de crédito. Então, o 45% tem a ver com o desempenho muito\\nbom que a gente vem tendo, mas também tem esses outros fatores que eu\\nmencionei.\\n\\nFlavio Yoshida (Bank of America) - Está ótimo, obrigado pessoal. Super claro!\\n\\nOperador - Seguimos com Jörg Friedemann, Citibank.\\n\\nJörg Friedemann (Citibank) - Muito obrigado! Eu vou explorar um tema aqui que o\\npessoal ainda não falou que é a parte de seguros. Vocês estão reafirmando o\\nguidance de crescimento de 18% a 23%, mas o primeiro trimestre anualiza algo\\nmuito abaixo disso. Tem umas pressões aí que a gente já conhece, a sinistralidade\\nainda está um pouco alta por conta de alguns fatores pontuais. Você tem também\\na questão dos índices inflacionários que afetam a carteira de previdência. Se vocês\\npudessem elaborar um pouco mais sobre o conforto que vocês têm para que vocês\\nconvirjam para o guidance de seguros, acho que também ajuda a gente a afinar os\\nmodelos aqui. Obrigado!\\n\\nOctavio de Lazari Junior - Jörg, obrigado pela pergunta. O Ivan Gontijo, que é CEO\\nda Seguradora, presidente da seguradora, está com a gente. Ivan, você pode\\ncomentar a pergunta do Jörg, por gentileza?\\n\\nIvan Gontijo - Muito obrigado, Octavio. Jörg, é um prazer grande. Queria dizer a\\nvocê o seguinte: nós estamos confortáveis e não alteramos o nosso guidance\\nporque já estamos olhando para o segundo trimestre de uma forma muito diferente.\\nA sinistralidade baixa, a receita financeira aumenta e nos dá um conforto muito\\ngrande. Se você for olhar para março, como o Octávio já ressaltou, nós vamos\\nverificar que, comparativamente com março de 2021, nós já temos um crescimento\\nde 16%. Então, a parte financeira está muito bem, sob controle. O segundo ponto\\nque me parece importante nós registrarmos para você seria o incremento de dois\\ndígitos no faturamento, ou seja, no prêmio líquido. Não estou tratando nem de\\nprêmio ganho, que vem um rescaldo do ano passado. Eu estou tratando de negócios\\nfeitos neste primeiro trimestre, que totalizaram algo em torno de R$22 bilhões. Isso\\nmostra um crescimento de dois dígitos, na casa de 13%. Se nós formos olhar o\\nfaturamento por segmento, no auto/RE há um crescimento de 24%; na parte de\\ncapitalização 19%; na vida e previdência 16% e na saúde e dental algo próximo a 8%.\\nEntão, em todas as linhas de negócio nós temos conforto para olhar para o segundo\\ntrimestre, manter o guidance e ter o conforto necessário de que vamos atingi-lo sim.\\nOutro ponto que me parece importante é o índice de eficiência administrativa de\\n3,7%, que é uma das melhores marcas que o grupo segurador atingiu nos últimos\\nanos. Em relação a sinistralidade, seja na saúde, vida, ou no habitacional, nós vemos\\num decréscimo no primeiro trimestre, bem forte, conforme o Octávio também já\\ndescreveu, mas no segundo trimestre, nós já sentimos isso de forma ainda mais\\nlatente. Então, a baixa da sinistralidade associada aos novos negócios, aos novos\\nincrementos no faturamento que estão de forma consistente, mês a mês,\\ncrescendo, nos dão o conforto para o atingimento do guidance já no segundo\\ntrimestre. E por esta razão não alteramos o guidance do grupo Segurador. Não sei se respondi integralmente a sua pergunta. Qualquer outro ponto, estou à\\ndisposição.\\n\\nJörg Friedemann (Citibank) - Está perfeito! Muito obrigado pelos esclarecimentos.\\nE só para fazer um follow up, vocês falam bastante de qualidade de carteira, mas só\\npara reiterar o nosso entendimento sobre o que vocês vislumbram de convergência\\nda cobertura para o final do ano. Só para termos a certeza que estamos trabalhando\\ncom os números corretos.\\n\\nOctavio de Lazari Junior – Oi, Jörg, prazer em falar com você, querido. Nós estamos\\ncom um indicador de 235%. Ele está até um pouco maior que antes da pandemia. Se\\npuxarmos a linha dos últimos 10 anos, você vai ver que sempre mantemos. Eu diria\\nque esse indicador vai ficar entre 210%-200%. Acho que não foge disso. Entre\\n200% e 210%.\\n\\nJörg Friedemann (Citibank) - Perfeito! É que eu vi que vocês estão mantendo ainda\\naquela provisão adicional em níveis bastante altos. Acho que é o que dá esse\\nconforto também. Obrigado, muito obrigado pelos esclarecimentos!\\n\\nOctavio de Lazari Junior - É isso mesmo, Jörg. Você está certo, obrigado!\\n\\nOperador - A próxima pergunta vem de Pedro Leduc, Itaú BBA.\\n\\nPedro Leduc (Itaú BBA) - Bom dia a todos, obrigado pela pergunta. Ela vem em\\nrelação ao update de guidance de despesas com PDD. Muita coisa mudou desde o\\núltimo trimestre. Vocês revisaram para cima NII e também revisaram para cima essa\\nexpectativa com despesas de provisão. Aqui eu queria explorar um pouquinho mais\\no conforto que vocês têm para guiar aí para um mid point de R$19 bi. Parece muito\\ncom os run rates que a gente teve neste primeiro trimestre, teria sido até maior, se\\nnão tivesse tido uma recuperação de impairment. A linha de NPL, tanto como NII,\\nparece que está subindo mais rápido. Quando falávamos de NPL pré-pandemia, do\\nmeio para o final do ano e já estamos lá. Indicadores de 90 dias de Bradesco\\nparecem piores do que o da indústria já faz alguns trimestres. E ainda assim, vocês\\nparecem ter o conforto que despesa com PDD não sobem muito mais que o nível\\nque a gente viu neste primeiro trimestre. Queria entender um pouquinho mais o que\\nvocês estão vendo, já mencionaram aí 20 bps aqui no segundo trimestre e\\nespecificamente, SMEs, que parece estar um pouquinho mais nervoso aqui, se vocês\\nestão fazendo alguns ajustes já na originação para dar esse conforto de ter esta\\ndespesa com PDD controlada nesses níveis no final do ano ou se é realmente uma\\nmelhora macro que vocês estão vendo, para dar esse conforto. Obrigado!\\n\\nLeandro Miranda – Oi, Pedro, é o Leandro falando. Basicamente, o que nós temos\\nvisto é que o NPL deve estar subindo mais uns 10-20 bps no próximo trimestre e\\ndepois isso aqui se estabelece no segundo semestre. Em relação a cada um dos\\nsegmentos que nós atuamos, temos visto, até pelo resultado do impairment, que o\\nsegmento de grandes empresas tem melhorado na qualidade creditícia. Então\\nesperamos que isso aqui continue também. Se você reparar, o nível de\\ninadimplência caiu nesse segmento, então também é um conforto extra que a gente\\ntem. Na linha de provisionamento, devemos ter alguma coisa próxima dos R$20\\nbilhões que sinalizamos. Os nossos modelos de perda esperada estão indicando no\\ncenário que temos hoje, com as premissas que o nosso departamento de economia\\ntem usado. Então, nós estamos tranquilos que voltaremos para o nível de 2019 e\\nque depois disso, nós devemos manter os coeficientes que indicamos.\\n\\nOctavio de Lazari Junior - Só para complementar, a inadimplência em grandes\\nempresas, quando tem algum problema em vista, todo mundo fica sabendo, porque\\nsai nos jornais, todos têm conhecimento. Não tem nenhuma grande empresa que\\nvocê tenha no radar que possa estar com problema. Então não devemos ter\\nsurpresa nas grandes empresas, o que nos dá esse relativo conforto de soltar esse\\nnovo guidance de despesa de PDD.\\n\\nLeandro Miranda - E tem duas coisas para adicionar, Pedro. Primeiro que\\nrelativamente o tamanho da carteira, nós já somos o banco mais provisionado.\\nQuando você olha os demais bancos, você vai ver que eles têm que reforçar a\\nprovisão para ficar em níveis próximos ao nosso. A segunda coisa é que nós temos\\na maior carteira corporativa do Brasil, então, relativamente, por mais que a gente\\ntenha visto uma mudança de mix, ela ainda é, em termos de volume, bem menor no\\nsegmento de pessoa física e pequenas e média empresas do que a gente tem em\\ngrandes empresas. Então, é esse benefício que trazemos por conta desse equilíbrio.\\n\\nPedro Leduc (Itaú BBA) - Está certo. Então se eu entendi direito, o NPL pessoa física\\ntalvez está um pouco mais rápido, só que grandes empresas está dando esse\\nconforto para o balanço de vocês. Está clara a foto, obrigado! E pessoas físicas,\\nalgum ajuste sendo feito na originação, porque realmente parece que está um\\npouco acima do sistema, né?\\n\\nLeandro Miranda – Não, o que acontece aqui, como o Octavio estava comentando,\\né que nós estamos com o mix de produtos mais rentáveis que puxam mais provisão,\\ncomo é o caso do cartão de crédito, do rotativo, do parcelado, e uma diminuição\\ndaqueles produtos em que sempre lideramos, que são produtos, por exemplo, de\\nbaixo risco como imobiliário que, portanto, tem um spread menor. Então, você verá\\nque, relativamente, essa carteira traz mais retorno, mas puxa mais PDD também. O\\nque olhamos aqui, no final das contas, é o spread liquido - que tem crescido, só\\nneste trimestre foram 30 bps.\\n\\nOctavio de Lazari Junior - Inclusive quando você incorpora a nova Selic nos\\nmodelos de crédito e analytics, é natural que você tenha uma mudança, então não\\né que colocamos freio, mas é que a nova taxa de juros exige mais renda e outros\\nfatores do cliente para que a operação possa entrar. Então é meio que um\\nmovimento natural.\\n\\nPedro Leduc (Itaú BBA) - Está super claro, gente. Obrigado e até o próximo\\ntrimestre!\\n\\nOctavio de Lazari Junior – Obrigado, Pedro, tchau!\\n\\nOperador - Seguimos com Carlos Gomez, HSBC.\\n\\nCarlos Gomez (HSBC) - Bom dia e obrigado! Queria perguntar sobre capital, foi\\nestável no tri, 12,5% de CET1. Qual o objetivo para o final do ano e qual consequência\\nvai ter para payout da companhia? E a segunda pergunta é: com os valuations até\\nagora no mercado, teria sentido para o banco consolidar o setor de fintech, fazer\\nmais investimentos? Sem mais colocações. Muito obrigado!\\n\\nCarlos Firetti - Carlos, eu não entendi essa sua última pergunta. Você pode repetir,\\ndesculpe.\\n\\nCarlos Gomez (HSBC) - Se faz sentido comprar alguma fintech que está no\\nmercado com os valuations que tem hoje?\\n\\nCarlos Firetti - Em relação a capital, temos uma posição bastante confortável, a\\nnossa operação vai continuar gerando capital até o final do ano. Eu acho que a\\nposição de capital que a gente tem hoje, para nós, é uma posição que parece\\nadequada para o momento. Em termos de dividendos, nós devemos manter a nossa\\npolítica de payout, pagando integralmente os juros sobre capital próprio e\\nmantendo o payout nos níveis que temos visto. Por enquanto, a política não tem\\nnenhuma mudança.\\n\\nOctavio de Lazari Junior - Com relação a aquisição de fintechs, tem dois aspectos\\nimportantes. O primeiro é que continuamos olhando e está no nosso radar, tanto do\\nRenato, como do Curt, como do Giovane, olharmos muito empresas que façam\\nsentido e que possam trazer valor agregado para as nossas empresas, ou antecipar o movimento que temos que fazer da evolução tecnológica. Muitos negócios estão\\nsendo olhados e, se fazem sentido, fazemos a aquisição. O próprio Bitz adquiriu\\nduas empresas, a 4ward e a Dindin. Adquirimos, trouxemos a competência do\\nmanagement e crescemos com essas empresas. E do outro lado, nós também temos\\n– aliás, tem mais dois lados – tem o lado do private equity, que é nosso fundo de\\ninvestimento em que temos várias empresas em que somos investidores, nunca\\ncomo controladores e sempre como investidores com a participação de 10%, 15%\\nou 20% no máximo, são 17-18 empresas investidas no total, que nós também\\ncontinuamos olhando e continuamos fazendo aquisições de algumas empresas. O\\nCurt também tem uma outra iniciativa que é uma empresa de investimento em\\noutros negócios que façam sentido para organização, para acelerarmos\\ndesenvolvimento tecnológico e a Bradesco Seguros também tem uma vertente\\nimportante de inovação tecnológica lá, mas não só inovação tecnológica, mas\\ntambém em negócios complementares ao nosso negócio. Investimentos em Fleury,\\nem Orizon e em várias empresas que o grupo segurador tem também. Esse assunto\\nde aquisição ou de investir em fintechs é algo que está no radar permanente do\\nbanco.\\n\\nRenato Ejnisman - No next, neste trimestre, só para complementar, anunciamos a\\naquisição da Aarin, que é uma fintech que faz tanto serviço de pix, quanto check-\\nout, que vai nos ajudar a ter controle do nosso cashback dentro do ecossistema do\\nnext e já havíamos anunciado não exatamente a compra da carteira, mas uma\\ntransação que nos permitiu trazer a carteira de pessoa física dos clientes do BS2.\\n\\nOctavio de Lazari Junior - Isso! Bem lembrado, Renato.\\n\\nCarlos Gomez (HSBC) - Muito Obrigado!\\n\\nOctavio de Lazari Junior - Um abraço!\\n\\nOperador – Obrigado! Seguimos sem perguntas e para as considerações finais do\\nBradesco.\\n\\nLeandro Miranda - Obrigado a todos pela participação. Encerramos, portanto, a\\nconferência e, caso tenham questões adicionais ou pontos que vocês gostariam de\\nmaiores esclarecimentos, nosso Departamento de Relações com Investidores está\\nsempre à disposição. Muito obrigado!\\n\\nOctavio de Lazari Junior – Obrigado, gente. Boa tarde a todos e obrigado pela\\natenção de vocês. Estamos à disposição. Um abraço!\\n\\nOperador – Obrigado! A teleconferência do Bradesco está encerrada. Agradecemos\\na participação de todos. Tenham um ótimo dia.\\n'"
      ]
     },
     "execution_count": 5,
     "metadata": {},
     "output_type": "execute_result"
    }
   ],
   "source": [
    "# Obtendo o texto\n",
    "texto = ''\n",
    "with open('texto.txt', 'r') as f:\n",
    "    texto = f.read()\n",
    "\n",
    "# string contendo todo o conteudo do arquivo\n",
    "texto"
   ]
  },
  {
   "cell_type": "code",
   "execution_count": 6,
   "id": "6458ef4f-8397-49f7-8baa-c80db9b96002",
   "metadata": {},
   "outputs": [
    {
     "name": "stdout",
     "output_type": "stream",
     "text": [
      "\n",
      "--- Estatísticas\n",
      "\n",
      "Quantidade de parágrafos: 157\n",
      "Quantidade de palavras por parágrafo\n",
      "{0: 11, 1: 224, 2: 90, 3: 21, 4: 28, 5: 52, 6: 41, 7: 34, 8: 49, 9: 50, 10: 37, 11: 20, 12: 30, 13: 51, 14: 50, 15: 25, 16: 39, 17: 6, 18: 23, 19: 48, 20: 62, 21: 73, 22: 23, 23: 15, 24: 52, 25: 25, 26: 5, 27: 21, 28: 23, 29: 56, 30: 6, 31: 32, 32: 20, 33: 22, 34: 8, 35: 60, 36: 21, 37: 18, 38: 11, 39: 46, 40: 6, 41: 21, 42: 43, 43: 51, 44: 27, 45: 21, 46: 75, 47: 21, 48: 5, 49: 11, 50: 31, 51: 21, 52: 40, 53: 36, 54: 87, 55: 44, 56: 23, 57: 28, 58: 65, 59: 26, 60: 67, 61: 5, 62: 42, 63: 10, 64: 12, 65: 76, 66: 68, 67: 86, 68: 5, 69: 57, 70: 42, 71: 5, 72: 41, 73: 46, 74: 12, 75: 16, 76: 40, 77: 26, 78: 31, 79: 20, 80: 9, 81: 34, 82: 17, 83: 62, 84: 34, 85: 36, 86: 44, 87: 5, 88: 25, 89: 60, 90: 22, 91: 37, 92: 34, 93: 44, 94: 14, 95: 65, 96: 31, 97: 40, 98: 14, 99: 40, 100: 78, 101: 474, 102: 118, 103: 302, 104: 9, 105: 26, 106: 185, 107: 736, 108: 8, 109: 24, 110: 210, 111: 733, 112: 6, 113: 6, 114: 162, 115: 501, 116: 5, 117: 8, 118: 135, 119: 243, 120: 52, 121: 128, 122: 132, 123: 130, 124: 11, 125: 6, 126: 113, 127: 33, 128: 345, 129: 56, 130: 61, 131: 34, 132: 12, 133: 10, 134: 237, 135: 152, 136: 68, 137: 109, 138: 59, 139: 100, 140: 59, 141: 14, 142: 7, 143: 6, 144: 65, 145: 14, 146: 19, 147: 82, 148: 247, 149: 68, 150: 8, 151: 5, 152: 6, 153: 12, 154: 36, 155: 21, 156: 17}\n",
      "\n",
      "Total de palavras no maior parágrafo (107): 736\n",
      "Total de palavras no menor parágrafo (26): 5\n",
      "Total de palavras no texto: 10087\n",
      "Total de palavras únicas no texto: 1959\n"
     ]
    }
   ],
   "source": [
    "import string\n",
    "import re\n",
    "\n",
    "# Pré-processando os parágrafos removendo pontuação, espaços extras e colocando todo o texto em minúsculo para:\n",
    "# - Contar o número de palavras por parágrafo\n",
    "# - Verificar as palavras utilizadas no texto\n",
    "\n",
    "# criando uma lista com os parágrafos\n",
    "paragrafos = texto.split(\"\\n\\n\")\n",
    "\n",
    "# colocando as linhas de cada parágrafo em uma única linha\n",
    "paragrafos = [ p.strip().replace('\\n', ' ') for p in paragrafos ]\n",
    "\n",
    "# dicionario com o numero do parágrafo e a respectiva quantidade de palavras\n",
    "dados = {}\n",
    "texto_processado = ''\n",
    "for i, p in enumerate(paragrafos):\n",
    "     \n",
    "    # Adicionando o caracter '–' às pontuações padrão e removendo pontuação do texto\n",
    "    punctuation = string.punctuation+'–'\n",
    "    for c in punctuation:\n",
    "        if c != '%':\n",
    "            p = p.replace(c, '')\n",
    "\n",
    "    \n",
    "    # Substituindo múltiplos espaços por apenas um (além dos espaços múltiplos vindos do \n",
    "    # texto, outros podem ser inseridos com a remoção da pontuação)\n",
    "    p = re.sub(r'\\s+', ' ', p)\n",
    "    \n",
    "    texto_processado += p.lower()+' '\n",
    "    tokens = p.split(' ')\n",
    "    \n",
    "    # Guardando no dicionário o parágrafo e o seu número de tokens (palavras)\n",
    "    dados[i] = len(tokens)\n",
    "\n",
    "\n",
    "print(f'\\n--- Estatísticas')\n",
    "\n",
    "# - Quantidade de parágrafos\n",
    "print(f'\\nQuantidade de parágrafos: {len(paragrafos)}')\n",
    "\n",
    "# - Quantidade de palavras por parágrafo\n",
    "print(f'Quantidade de palavras por parágrafo')\n",
    "print(dados)\n",
    "\n",
    "# - Quantidade de palavras no maior e no menor parágrafo\n",
    "print(f'\\nTotal de palavras no maior parágrafo ({max(dados, key=dados.get)}): {max(dados.values())}')\n",
    "print(f'Total de palavras no menor parágrafo ({min(dados, key=dados.get)}): {min(dados.values())}')\n",
    "\n",
    "# - Quantidade de palavras no texto\n",
    "# criando lista com todas as palavras\n",
    "palavras = texto_processado.split()\n",
    "print(f'Total de palavras no texto: {len(palavras)}')\n",
    "\n",
    "# - Quantidade de palavras únicas no texto\n",
    "# criando conjunto das palavras\n",
    "palavras_set = set(palavras)\n",
    "print(f'Total de palavras únicas no texto: {len(palavras_set)}')\n",
    "\n"
   ]
  }
 ],
 "metadata": {
  "kernelspec": {
   "display_name": "Python 3 (ipykernel)",
   "language": "python",
   "name": "python3"
  },
  "language_info": {
   "codemirror_mode": {
    "name": "ipython",
    "version": 3
   },
   "file_extension": ".py",
   "mimetype": "text/x-python",
   "name": "python",
   "nbconvert_exporter": "python",
   "pygments_lexer": "ipython3",
   "version": "3.9.13"
  },
  "toc-autonumbering": false,
  "toc-showcode": false,
  "toc-showmarkdowntxt": false,
  "toc-showtags": false
 },
 "nbformat": 4,
 "nbformat_minor": 5
}
